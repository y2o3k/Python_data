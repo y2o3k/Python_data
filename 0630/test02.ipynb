{
 "cells": [
  {
   "cell_type": "code",
   "execution_count": 1,
   "id": "534fc87e",
   "metadata": {},
   "outputs": [],
   "source": [
    "a=3\n",
    "b=5"
   ]
  },
  {
   "cell_type": "markdown",
   "id": "8af85fc3",
   "metadata": {},
   "source": [
    " $$Cov(x,y) = \\begin{bmatrix}\\sigma_x^2 & Cov(x,y) \\\\Cov(x,y) & \\sigma_y^2 \\end{bmatrix}$$\n",
    "\n",
    "8. 피어슨상관계수"
   ]
  },
  {
   "cell_type": "markdown",
   "id": "579237ed",
   "metadata": {},
   "source": [
    "# 제목 : 주피터 노트북"
   ]
  },
  {
   "cell_type": "markdown",
   "id": "baa3e8c4",
   "metadata": {},
   "source": [
    "## 발표자:김윤영"
   ]
  },
  {
   "cell_type": "code",
   "execution_count": 2,
   "id": "eae5e4f8",
   "metadata": {},
   "outputs": [
    {
     "name": "stdout",
     "output_type": "stream",
     "text": [
      "8\n",
      "2\n"
     ]
    }
   ],
   "source": [
    "print(a+b)\n",
    "print(b-a)"
   ]
  }
 ],
 "metadata": {
  "kernelspec": {
   "display_name": "Python 3 (ipykernel)",
   "language": "python",
   "name": "python3"
  },
  "language_info": {
   "codemirror_mode": {
    "name": "ipython",
    "version": 3
   },
   "file_extension": ".py",
   "mimetype": "text/x-python",
   "name": "python",
   "nbconvert_exporter": "python",
   "pygments_lexer": "ipython3",
   "version": "3.9.12"
  }
 },
 "nbformat": 4,
 "nbformat_minor": 5
}
