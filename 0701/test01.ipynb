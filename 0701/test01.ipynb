{
 "cells": [
  {
   "cell_type": "code",
   "execution_count": 2,
   "id": "49ba715e",
   "metadata": {
    "scrolled": true
   },
   "outputs": [
    {
     "name": "stdout",
     "output_type": "stream",
     "text": [
      "\n",
      "안녕하세요 \n",
      "지금 \n",
      "파이썬을\n",
      "배우고 있습니다.\n",
      "\n"
     ]
    }
   ],
   "source": [
    "# 세 따옴표 문자열 - 여러줄 표시 기능\n",
    "a =\"\"\"\n",
    "안녕하세요 \n",
    "지금 \n",
    "파이썬을\n",
    "배우고 있습니다.\n",
    "\"\"\"\n",
    "print(a)"
   ]
  },
  {
   "cell_type": "code",
   "execution_count": 4,
   "id": "b4637d0d",
   "metadata": {},
   "outputs": [
    {
     "name": "stdout",
     "output_type": "stream",
     "text": [
      "\n",
      "1. 시작 \n",
      "2. 수정\n",
      "3. 삭제 \n",
      "==> 번호를 선택하세요:\n",
      "\n",
      "\n"
     ]
    }
   ],
   "source": [
    "menu = \"\"\"\n",
    "1. 시작 \n",
    "2. 수정\n",
    "3. 삭제 \n",
    "==> 번호를 선택하세요:\n",
    "\n",
    "\"\"\"\n",
    "print(menu)"
   ]
  },
  {
   "cell_type": "code",
   "execution_count": 9,
   "id": "2048fb72",
   "metadata": {},
   "outputs": [
    {
     "name": "stdout",
     "output_type": "stream",
     "text": [
      "UUUUUUUUUUUUUUUUUUUUUUUUUUUUUUUUUUUUUUUUUUUUUUUUUUUUUUUUUUUU------------------------------\n"
     ]
    }
   ],
   "source": [
    "Lines = \"UU\"* 30 + \"-\" * 30 \n",
    "print(Lines)\n"
   ]
  },
  {
   "cell_type": "code",
   "execution_count": 10,
   "id": "42e0c216",
   "metadata": {
    "scrolled": true
   },
   "outputs": [
    {
     "name": "stdout",
     "output_type": "stream",
     "text": [
      "Terminator3\n"
     ]
    }
   ],
   "source": [
    "#숫자를 문자로 변환\n",
    "movie = \"Terminator \" + str(3)\n",
    "print(movie)"
   ]
  },
  {
   "cell_type": "code",
   "execution_count": 14,
   "id": "171ca4e1",
   "metadata": {},
   "outputs": [
    {
     "name": "stdout",
     "output_type": "stream",
     "text": [
      "말 한마디로\n",
      "천냥 빚을 \n",
      "갚는다\n"
     ]
    }
   ],
   "source": [
    "# \\n 줄 바꿈 \n",
    "print(\"말 한마디로\\n천냥 빚을 \\n갚는다\")"
   ]
  },
  {
   "cell_type": "code",
   "execution_count": 25,
   "id": "30f5f09f",
   "metadata": {},
   "outputs": [
    {
     "name": "stdout",
     "output_type": "stream",
     "text": [
      "i와 k와 e\n"
     ]
    }
   ],
   "source": [
    "#문자열은 배열로 처리 ( 한칸이라도 들여쓰기하면 오류 발생)\n",
    "a = \"kim\"\n",
    "b = \"park\"\n",
    "c = \"lee\"\n",
    "First = a[1]+\"와 \"+ b[3]+\"와 \"+c[2]\n",
    "print(First)"
   ]
  },
  {
   "cell_type": "code",
   "execution_count": null,
   "id": "bc026fb6",
   "metadata": {},
   "outputs": [],
   "source": [
    "# 파이썬은 모든 변수를  object(클래스)로 선언함.\n",
    "name = \"HARRY PORTER\"\n",
    "lower_name = name."
   ]
  },
  {
   "cell_type": "code",
   "execution_count": null,
   "id": "c4908bb4",
   "metadata": {},
   "outputs": [],
   "source": []
  },
  {
   "cell_type": "code",
   "execution_count": null,
   "id": "cd27bdba",
   "metadata": {},
   "outputs": [],
   "source": []
  },
  {
   "cell_type": "code",
   "execution_count": null,
   "id": "11d7cad6",
   "metadata": {},
   "outputs": [],
   "source": []
  }
 ],
 "metadata": {
  "kernelspec": {
   "display_name": "Python 3 (ipykernel)",
   "language": "python",
   "name": "python3"
  },
  "language_info": {
   "codemirror_mode": {
    "name": "ipython",
    "version": 3
   },
   "file_extension": ".py",
   "mimetype": "text/x-python",
   "name": "python",
   "nbconvert_exporter": "python",
   "pygments_lexer": "ipython3",
   "version": "3.9.12"
  }
 },
 "nbformat": 4,
 "nbformat_minor": 5
}
