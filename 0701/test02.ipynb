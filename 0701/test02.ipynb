{
 "cells": [
  {
   "cell_type": "code",
   "execution_count": 2,
   "id": "58918ebb",
   "metadata": {},
   "outputs": [],
   "source": [
    "# 입력과 출력"
   ]
  },
  {
   "cell_type": "code",
   "execution_count": 11,
   "id": "03d63247",
   "metadata": {},
   "outputs": [
    {
     "name": "stdout",
     "output_type": "stream",
     "text": [
      "이름을 입력하세요: 김윤영\n",
      "김윤영 씨, 안녕하세요 ?\n",
      "파이썬에 오신걸 환영합니다.\n"
     ]
    }
   ],
   "source": [
    "name = input(\"이름을 입력하세요: \")\n",
    "print(name,\"씨, 안녕하세요 ?\")\n",
    "print(\"파이썬에 오신걸 환영합니다.\")\n"
   ]
  },
  {
   "cell_type": "code",
   "execution_count": 9,
   "id": "d16ac696",
   "metadata": {},
   "outputs": [
    {
     "name": "stdout",
     "output_type": "stream",
     "text": [
      "첫 번째 정수를 입력하세요: 500\n",
      "두 번째 정수를 입력하세요: 9000\n",
      "합은 5009000\n"
     ]
    }
   ],
   "source": [
    "x = input(\"첫 번째 정수를 입력하세요: \")\n",
    "y = input(\"두 번째 정수를 입력하세요: \")\n",
    "sum = x+y\n",
    "print(\"합은\", sum)"
   ]
  },
  {
   "cell_type": "code",
   "execution_count": 12,
   "id": "fef547f4",
   "metadata": {},
   "outputs": [
    {
     "name": "stdout",
     "output_type": "stream",
     "text": [
      "첫 번째 정수를 입력하세요: 500\n",
      "두 번째 정수를 입력하세요: 300\n",
      "합은 800\n"
     ]
    }
   ],
   "source": [
    "s1= input(\"첫 번째 정수를 입력하세요: \")\n",
    "x = int(s1)\n",
    "s2= input(\"두 번째 정수를 입력하세요: \")\n",
    "y = int(s2)\n",
    "sum = x+y\n",
    "print(\"합은\", sum)"
   ]
  },
  {
   "cell_type": "code",
   "execution_count": 17,
   "id": "898c9b98",
   "metadata": {},
   "outputs": [
    {
     "name": "stdout",
     "output_type": "stream",
     "text": [
      "면접(제곱미터):3\n",
      "0.9090909090909092 평\n"
     ]
    }
   ],
   "source": [
    "# 부동 소수점 사용\n",
    "# eval은 데이터에 따라 실수 또는 정수로 변환 \n",
    "SQMEMBER_PER_P = 3.3\n",
    "\n",
    "area = eval(input(\"면적(제곱미터):\"))\n",
    "py = area/SQMEMBER_PER_P\n",
    "print(py, \"평\")"
   ]
  },
  {
   "cell_type": "code",
   "execution_count": 23,
   "id": "ab69b1da",
   "metadata": {},
   "outputs": [
    {
     "name": "stdout",
     "output_type": "stream",
     "text": [
      "면적(제곱미터):30\n",
      "9.09 평\n"
     ]
    }
   ],
   "source": [
    "#형식화된 출력\n",
    "SQMEMBER_PER_P = 3.3\n",
    "\n",
    "area = eval(input(\"면적(제곱미터):\"))\n",
    "py = area / SQMEMBER_PER_P\n",
    "print(\"%.2f\" %py, \"평\")"
   ]
  },
  {
   "cell_type": "code",
   "execution_count": 26,
   "id": "8d44bcc0",
   "metadata": {},
   "outputs": [
    {
     "name": "stdout",
     "output_type": "stream",
     "text": [
      "안녕하세요\n",
      "이름이 어떻게 되시나요?23\n",
      "만나서 반갑습니다.23씨\n",
      "이름의 길이는 다음과 같군요: 2\n",
      "나이가 어떻게 되나요?12\n",
      "내년이면13 이 되시는군요.\n"
     ]
    }
   ],
   "source": [
    "# 대화형 프로그램\n",
    "print(\"안녕하세요\")\n",
    "name = input(\"이름이 어떻게 되시나요?\")\n",
    "print(\"만나서 반갑습니다.\" + name + \"씨\")\n",
    "print(\"이름의 길이는 다음과 같군요:\" ,len(name))\n",
    "\n",
    "age= int(input(\"나이가 어떻게 되나요?\"))\n",
    "print(\"내년이면\" + str(age+1)+\" 이 되시는군요.\")"
   ]
  },
  {
   "cell_type": "code",
   "execution_count": 28,
   "id": "9a5b0e00",
   "metadata": {},
   "outputs": [
    {
     "ename": "KeyboardInterrupt",
     "evalue": "Interrupted by user",
     "output_type": "error",
     "traceback": [
      "\u001b[1;31m---------------------------------------------------------------------------\u001b[0m",
      "\u001b[1;31mKeyboardInterrupt\u001b[0m                         Traceback (most recent call last)",
      "Input \u001b[1;32mIn [28]\u001b[0m, in \u001b[0;36m<cell line: 7>\u001b[1;34m()\u001b[0m\n\u001b[0;32m      1\u001b[0m \u001b[38;5;66;03m# bmi 계산하기 \u001b[39;00m\n\u001b[0;32m      2\u001b[0m \u001b[38;5;66;03m# bmi < 18.50 저체중\u001b[39;00m\n\u001b[0;32m      3\u001b[0m \u001b[38;5;66;03m# bmi 18.50 -24.99 표준\u001b[39;00m\n\u001b[0;32m      4\u001b[0m \u001b[38;5;66;03m# bmi 24..99 -29.99 과체중\u001b[39;00m\n\u001b[0;32m      5\u001b[0m \u001b[38;5;66;03m# bmi > 29.99 비만 \u001b[39;00m\n\u001b[1;32m----> 7\u001b[0m weight \u001b[38;5;241m=\u001b[39m \u001b[38;5;28mfloat\u001b[39m(\u001b[38;5;28;43minput\u001b[39;49m\u001b[43m(\u001b[49m\u001b[38;5;124;43m\"\u001b[39;49m\u001b[38;5;124;43m몸무게 kg 단위를 입력하세요: \u001b[39;49m\u001b[38;5;124;43m\"\u001b[39;49m\u001b[43m)\u001b[49m)\n\u001b[0;32m      8\u001b[0m height \u001b[38;5;241m=\u001b[39m \u001b[38;5;28mfloat\u001b[39m(\u001b[38;5;28minput\u001b[39m(\u001b[38;5;124m\"\u001b[39m\u001b[38;5;124m키 cm 단위를 입력하세요: \u001b[39m\u001b[38;5;124m\"\u001b[39m))\n\u001b[0;32m     10\u001b[0m bmi \u001b[38;5;241m=\u001b[39m (weight\u001b[38;5;241m/\u001b[39m(height\u001b[38;5;241m*\u001b[39m\u001b[38;5;241m*\u001b[39m\u001b[38;5;241m2\u001b[39m))\n",
      "File \u001b[1;32mC:\\ProgramData\\Anaconda3\\lib\\site-packages\\ipykernel\\kernelbase.py:1075\u001b[0m, in \u001b[0;36mKernel.raw_input\u001b[1;34m(self, prompt)\u001b[0m\n\u001b[0;32m   1071\u001b[0m \u001b[38;5;28;01mif\u001b[39;00m \u001b[38;5;129;01mnot\u001b[39;00m \u001b[38;5;28mself\u001b[39m\u001b[38;5;241m.\u001b[39m_allow_stdin:\n\u001b[0;32m   1072\u001b[0m     \u001b[38;5;28;01mraise\u001b[39;00m StdinNotImplementedError(\n\u001b[0;32m   1073\u001b[0m         \u001b[38;5;124m\"\u001b[39m\u001b[38;5;124mraw_input was called, but this frontend does not support input requests.\u001b[39m\u001b[38;5;124m\"\u001b[39m\n\u001b[0;32m   1074\u001b[0m     )\n\u001b[1;32m-> 1075\u001b[0m \u001b[38;5;28;01mreturn\u001b[39;00m \u001b[38;5;28;43mself\u001b[39;49m\u001b[38;5;241;43m.\u001b[39;49m\u001b[43m_input_request\u001b[49m\u001b[43m(\u001b[49m\n\u001b[0;32m   1076\u001b[0m \u001b[43m    \u001b[49m\u001b[38;5;28;43mstr\u001b[39;49m\u001b[43m(\u001b[49m\u001b[43mprompt\u001b[49m\u001b[43m)\u001b[49m\u001b[43m,\u001b[49m\n\u001b[0;32m   1077\u001b[0m \u001b[43m    \u001b[49m\u001b[38;5;28;43mself\u001b[39;49m\u001b[38;5;241;43m.\u001b[39;49m\u001b[43m_parent_ident\u001b[49m\u001b[43m[\u001b[49m\u001b[38;5;124;43m\"\u001b[39;49m\u001b[38;5;124;43mshell\u001b[39;49m\u001b[38;5;124;43m\"\u001b[39;49m\u001b[43m]\u001b[49m\u001b[43m,\u001b[49m\n\u001b[0;32m   1078\u001b[0m \u001b[43m    \u001b[49m\u001b[38;5;28;43mself\u001b[39;49m\u001b[38;5;241;43m.\u001b[39;49m\u001b[43mget_parent\u001b[49m\u001b[43m(\u001b[49m\u001b[38;5;124;43m\"\u001b[39;49m\u001b[38;5;124;43mshell\u001b[39;49m\u001b[38;5;124;43m\"\u001b[39;49m\u001b[43m)\u001b[49m\u001b[43m,\u001b[49m\n\u001b[0;32m   1079\u001b[0m \u001b[43m    \u001b[49m\u001b[43mpassword\u001b[49m\u001b[38;5;241;43m=\u001b[39;49m\u001b[38;5;28;43;01mFalse\u001b[39;49;00m\u001b[43m,\u001b[49m\n\u001b[0;32m   1080\u001b[0m \u001b[43m\u001b[49m\u001b[43m)\u001b[49m\n",
      "File \u001b[1;32mC:\\ProgramData\\Anaconda3\\lib\\site-packages\\ipykernel\\kernelbase.py:1120\u001b[0m, in \u001b[0;36mKernel._input_request\u001b[1;34m(self, prompt, ident, parent, password)\u001b[0m\n\u001b[0;32m   1117\u001b[0m             \u001b[38;5;28;01mbreak\u001b[39;00m\n\u001b[0;32m   1118\u001b[0m \u001b[38;5;28;01mexcept\u001b[39;00m \u001b[38;5;167;01mKeyboardInterrupt\u001b[39;00m:\n\u001b[0;32m   1119\u001b[0m     \u001b[38;5;66;03m# re-raise KeyboardInterrupt, to truncate traceback\u001b[39;00m\n\u001b[1;32m-> 1120\u001b[0m     \u001b[38;5;28;01mraise\u001b[39;00m \u001b[38;5;167;01mKeyboardInterrupt\u001b[39;00m(\u001b[38;5;124m\"\u001b[39m\u001b[38;5;124mInterrupted by user\u001b[39m\u001b[38;5;124m\"\u001b[39m) \u001b[38;5;28;01mfrom\u001b[39;00m \u001b[38;5;28mNone\u001b[39m\n\u001b[0;32m   1121\u001b[0m \u001b[38;5;28;01mexcept\u001b[39;00m \u001b[38;5;167;01mException\u001b[39;00m:\n\u001b[0;32m   1122\u001b[0m     \u001b[38;5;28mself\u001b[39m\u001b[38;5;241m.\u001b[39mlog\u001b[38;5;241m.\u001b[39mwarning(\u001b[38;5;124m\"\u001b[39m\u001b[38;5;124mInvalid Message:\u001b[39m\u001b[38;5;124m\"\u001b[39m, exc_info\u001b[38;5;241m=\u001b[39m\u001b[38;5;28;01mTrue\u001b[39;00m)\n",
      "\u001b[1;31mKeyboardInterrupt\u001b[0m: Interrupted by user"
     ]
    }
   ],
   "source": [
    "# bmi 계산하기 \n",
    "# bmi < 18.50 저체중\n",
    "# bmi 18.50 -24.99 표준\n",
    "# bmi 24..99 -29.99 과체중\n",
    "# bmi > 29.99 비만 \n",
    "\n",
    "weight = float(input(\"몸무게 kg 단위를 입력하세요: \"))\n",
    "height = float(input(\"키 cm 단위를 입력하세요: \"))\n",
    "\n",
    "bmi = (weight/(height**2))\n",
    "print(\"당신의 BMMI=\", bmi)"
   ]
  },
  {
   "cell_type": "code",
   "execution_count": 33,
   "id": "7d0ff23f",
   "metadata": {},
   "outputs": [
    {
     "name": "stdout",
     "output_type": "stream",
     "text": [
      "반지름 입력하세요: 3\n",
      "구의 부피=    113.10\n"
     ]
    }
   ],
   "source": [
    "# 구의 부피 계산 \n",
    "r = float(input(\"반지름 입력하세요: \"))\n",
    "\n",
    "#구의 부피 공식 \n",
    "volume = (4.0/3.0)*3.141592 * r**3\n",
    "\n",
    "#구의 부피를 화면에 출력\n",
    "print(\"구의 부피=%10.2f\" % volume)"
   ]
  },
  {
   "cell_type": "code",
   "execution_count": null,
   "id": "f98c0345",
   "metadata": {},
   "outputs": [],
   "source": []
  },
  {
   "cell_type": "code",
   "execution_count": null,
   "id": "fe4805f8",
   "metadata": {},
   "outputs": [],
   "source": []
  }
 ],
 "metadata": {
  "kernelspec": {
   "display_name": "Python 3 (ipykernel)",
   "language": "python",
   "name": "python3"
  },
  "language_info": {
   "codemirror_mode": {
    "name": "ipython",
    "version": 3
   },
   "file_extension": ".py",
   "mimetype": "text/x-python",
   "name": "python",
   "nbconvert_exporter": "python",
   "pygments_lexer": "ipython3",
   "version": "3.9.12"
  }
 },
 "nbformat": 4,
 "nbformat_minor": 5
}
