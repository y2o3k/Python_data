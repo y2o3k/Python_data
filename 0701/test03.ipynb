{
 "cells": [
  {
   "cell_type": "code",
   "execution_count": 6,
   "id": "39877897",
   "metadata": {},
   "outputs": [
    {
     "name": "stdout",
     "output_type": "stream",
     "text": [
      "물건값을 입력하시오: 50000\n",
      "=== 입력금액 === \n",
      "1000원 지폐개수: 50000\n",
      "500원 동전개수: 50000000\n",
      "100원 동전개수: 500000\n",
      "===거스름돈 출력===\n",
      "500원= 50199900 100원= 0 10원= 0 1원= 0\n"
     ]
    }
   ],
   "source": [
    "# 자판기에서 거스름 돈 계산 \n",
    "itemPrice = int(input(\"물건값을 입력하시오: \"))\n",
    "print(\"=== 입력금액 === \")\n",
    "note = int(input(\"1000원 지폐개수: \"))\n",
    "coin500 = int(input(\"500원 동전개수: \"))\n",
    "coin100 = int(input(\"100원 동전개수: \"))\n",
    "\n",
    "change = note*1000 + coin500*500 + coin100*100 - itemPrice\n",
    "\n",
    "# 거스름돈(500원 동전 개수)을 계산\n",
    "nCoin500 = change // 500 \n",
    "change = change%500 \n",
    "\n",
    "# 거스름돈(100원 동전 개수)을 계산\n",
    "nCoin100 = change // 100 \n",
    "change = change%100 \n",
    "\n",
    "# 거스름돈(10원 동전 개수)을 계산\n",
    "nCoin10 = change // 10 \n",
    "change = change%10 \n",
    "\n",
    "# 거스름돈(1원 동전 개수)을 계산\n",
    "nCoin = change \n",
    "\n",
    "print(\"===거스름돈 출력===\")\n",
    "print(\"500원=\",nCoin500,\"100원=\",nCoin100,\"10원=\",nCoin10,\"1원=\",nCoin)\n"
   ]
  },
  {
   "cell_type": "code",
   "execution_count": null,
   "id": "79a77269",
   "metadata": {},
   "outputs": [],
   "source": []
  }
 ],
 "metadata": {
  "kernelspec": {
   "display_name": "Python 3 (ipykernel)",
   "language": "python",
   "name": "python3"
  },
  "language_info": {
   "codemirror_mode": {
    "name": "ipython",
    "version": 3
   },
   "file_extension": ".py",
   "mimetype": "text/x-python",
   "name": "python",
   "nbconvert_exporter": "python",
   "pygments_lexer": "ipython3",
   "version": "3.9.12"
  }
 },
 "nbformat": 4,
 "nbformat_minor": 5
}
