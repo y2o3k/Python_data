{
 "cells": [
  {
   "cell_type": "code",
   "execution_count": 4,
   "id": "c8070028",
   "metadata": {},
   "outputs": [
    {
     "name": "stdout",
     "output_type": "stream",
     "text": [
      "상품의 가격: 210000\n",
      "배송비= 0\n"
     ]
    }
   ],
   "source": [
    "# 배송비 계산 프로그램 - switch 문 \n",
    "price = int(input(\"상품의 가격: \"))\n",
    "\n",
    "# 배송비를 결정한다.\n",
    "if price > 20000 :\n",
    "    shopping_cost = 0\n",
    "else :\n",
    "    shopping_cost = 3000\n",
    "    \n",
    "#배송비를 출력\n",
    "print(\"배송비=\", shopping_cost)"
   ]
  },
  {
   "cell_type": "code",
   "execution_count": 7,
   "id": "f1b9694d",
   "metadata": {},
   "outputs": [
    {
     "name": "stdout",
     "output_type": "stream",
     "text": [
      "False\n"
     ]
    }
   ],
   "source": [
    "# 관계연산자 \n",
    "s1 = \"안녕~~~\"\n",
    "s2 = \" Hi! \"\n",
    "print(s1<s2)"
   ]
  },
  {
   "cell_type": "code",
   "execution_count": 1,
   "id": "3d1648a5",
   "metadata": {},
   "outputs": [
    {
     "name": "stdout",
     "output_type": "stream",
     "text": [
      "sqrt(3.0) * sqrt(3.0)은 3.0과 같다. \n"
     ]
    }
   ],
   "source": [
    "# 실수와 실수 비교 \n",
    "from math import sqrt \n",
    "\n",
    "n = sqrt(3.0)\n",
    "if abs(n*n ==3.0) <0.00001:\n",
    "    print(\"sqrt(3.0) * sqrt(3.0)은 3.0과 같다. \")\n",
    "else:\n",
    "    print(\"sqrt(3.0) * sqrt(3.0)은 3.0과 같지 않다.\")"
   ]
  },
  {
   "cell_type": "code",
   "execution_count": 14,
   "id": "3955809a",
   "metadata": {},
   "outputs": [
    {
     "name": "stdout",
     "output_type": "stream",
     "text": [
      "14+71=85\n",
      "True\n"
     ]
    }
   ],
   "source": [
    "#산술 문제 출제 프로그램\n",
    "# f 문자열은 { }로 감싸서 문자열 안에 넣을 수 있음.\n",
    "import random\n",
    "\n",
    "x = random.randint(1, 100)\n",
    "y = random.randint(1, 100)\n",
    "\n",
    "answer = int(input(f\"{x}+{y}=\"))\n",
    "             \n",
    "#부울(boolean)변수에 결과를 저장하고 출력\n",
    "flag = (answer== (x+y))\n",
    "print(flag)"
   ]
  },
  {
   "cell_type": "code",
   "execution_count": null,
   "id": "b2f78c17",
   "metadata": {},
   "outputs": [],
   "source": [
    "# 조건 연산자 - 삼항 연산자 \n",
    "x = eval(input(\"첫 번째 정수를 입력하세요: \"))\n",
    "y = eval(input(\"두 번째 정수를 입력하세요: \"))\n",
    "\n",
    "absolute_value = (x if x> 0 else -x) #절대값\n",
    "max_value = (x if x > y else y) #최대값\n",
    "min_value = (x if x < y else y) #최소값\n",
    "\n",
    "\n",
    " \n",
    "print(\"절대값\", absolute_value)\n",
    "print(\"최대값\", max_value)\n",
    "print(\"최소값\", min_value)\n"
   ]
  },
  {
   "cell_type": "code",
   "execution_count": 23,
   "id": "3909cdc0",
   "metadata": {},
   "outputs": [
    {
     "name": "stdout",
     "output_type": "stream",
     "text": [
      "온도를 입력하세요50\n",
      "물의 상태는 액체입니다.\n"
     ]
    }
   ],
   "source": [
    "# 온도에 따른 물의 상태\n",
    "temp = float(input(\"온도를 입력하세요\"))\n",
    "\n",
    "if temp <= 0:\n",
    "   print(\"물의 상태는 얼음입니다.\")\n",
    "elif temp > 0 and temp < 100:\n",
    "    print(\"물의 상태는 액체입니다.\")\n",
    "else:\n",
    "    print(\"물의 상태는 기체입니다.\")"
   ]
  },
  {
   "cell_type": "code",
   "execution_count": null,
   "id": "43eaa758",
   "metadata": {},
   "outputs": [],
   "source": []
  },
  {
   "cell_type": "code",
   "execution_count": null,
   "id": "f32285d3",
   "metadata": {},
   "outputs": [],
   "source": []
  }
 ],
 "metadata": {
  "kernelspec": {
   "display_name": "Python 3 (ipykernel)",
   "language": "python",
   "name": "python3"
  },
  "language_info": {
   "codemirror_mode": {
    "name": "ipython",
    "version": 3
   },
   "file_extension": ".py",
   "mimetype": "text/x-python",
   "name": "python",
   "nbconvert_exporter": "python",
   "pygments_lexer": "ipython3",
   "version": "3.9.12"
  }
 },
 "nbformat": 4,
 "nbformat_minor": 5
}
